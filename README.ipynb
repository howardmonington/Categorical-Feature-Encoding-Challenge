# Categorical-Feature-Encoding-Challenge
For this project, I examined three different methods of encoding categorical features: label encoding, one hot encoding, and feature hashing. I created a logistic regression function with cross validation and used it to test the accuracy of each method. One hot encoding was the most accurate classifier, so I used it to calculate my predictions for the test data. 

My code can also be accessed and forked on Kaggle at: https://www.kaggle.com/lukemonington/categorical-feature-encoding-challenge

This challenge can be accessed on Kaggle at: https://www.kaggle.com/c/cat-in-the-dat
